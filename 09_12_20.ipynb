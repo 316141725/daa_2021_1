{
  "nbformat": 4,
  "nbformat_minor": 0,
  "metadata": {
    "colab": {
      "name": "09/12/20.ipynb",
      "provenance": [],
      "authorship_tag": "ABX9TyNHOCcG5aSnRPWRmVfE28Ta",
      "include_colab_link": true
    },
    "kernelspec": {
      "name": "python3",
      "display_name": "Python 3"
    }
  },
  "cells": [
    {
      "cell_type": "markdown",
      "metadata": {
        "id": "view-in-github",
        "colab_type": "text"
      },
      "source": [
        "<a href=\"https://colab.research.google.com/github/316141725/daa_2021_1/blob/master/09_12_20.ipynb\" target=\"_parent\"><img src=\"https://colab.research.google.com/assets/colab-badge.svg\" alt=\"Open In Colab\"/></a>"
      ]
    },
    {
      "cell_type": "code",
      "metadata": {
        "colab": {
          "base_uri": "https://localhost:8080/"
        },
        "id": "aBzHeLK1gT5S",
        "outputId": "81de9244-c2c7-4ebf-b32b-4decfeab2af0"
      },
      "source": [
        "alumno1={'id':2, 'nombre':\"Juan\" , 'carrera':\"ICO\", 'promedio':7.67}\r\n",
        "alumno2={'id':4, 'nombre':\"Rocio\" , 'carrera':\"ICI\", 'promedio':8.67}\r\n",
        "alumno3={'id':5, 'nombre':\"Diego\" , 'carrera':\"DER\", 'promedio':8.98}\r\n",
        "alumno4={'id':7, 'nombre':\"May\" , 'carrera':\"ICI\", 'promedio':9.87}\r\n",
        "alumno5={'id':9, 'nombre':\"Rob\" , 'carrera':\"IME\", 'promedio':10.00}\r\n",
        "alumno6={'id':10, 'nombre':\"Santi\" , 'carrera':\"ICO\", 'promedio':5.37}\r\n",
        "alumno7={'id':14, 'nombre':\"Moy\" , 'carrera':\"IME\", 'promedio':6.85}\r\n",
        "alumno8={'id':16, 'nombre':\"Diana\" , 'carrera':\"DER\", 'promedio':9.99}\r\n",
        "alumno9={'id':19, 'nombre':\"Zoila\" , 'carrera':\"ICO\", 'promedio':8.22}\r\n",
        "alumno10={'id':22, 'nombre':\"Armando\" , 'carrera':\"ICO\", 'promedio':7.32}\r\n",
        "\r\n",
        "bd = []\r\n",
        "bd.append(alumno1)\r\n",
        "bd.append(alumno2)\r\n",
        "bd.append(alumno3)\r\n",
        "bd.append(alumno4)\r\n",
        "bd.append(alumno5)\r\n",
        "bd.append(alumno6)\r\n",
        "bd.append(alumno7)\r\n",
        "bd.append(alumno8)\r\n",
        "bd.append(alumno9)\r\n",
        "bd.append(alumno10)\r\n",
        "\r\n",
        "def busqueda_binaria_db(array, id, ini, fin):\r\n",
        "  medi = (ini + fin )//2\r\n",
        "  if array[medi].get('id') == id:\r\n",
        "    return (array[medi])\r\n",
        "  elif array[medi].get('id')<id:\r\n",
        "    return busqueda_binaria_db(array, id, med+1, fin)\r\n",
        "  elif array[medi].get('id')>id:\r\n",
        "    return busqueda_binaria_db(array, id, ini, medi -1)\r\n",
        "\r\n",
        "print(f\"La posicion:{busqueda_binaria_db(bd,9,0, len(bd)-1)}\")"
      ],
      "execution_count": 4,
      "outputs": [
        {
          "output_type": "stream",
          "text": [
            "La posicion:{'id': 9, 'nombre': 'Rob', 'carrera': 'IME', 'promedio': 10.0}\n"
          ],
          "name": "stdout"
        }
      ]
    }
  ]
}