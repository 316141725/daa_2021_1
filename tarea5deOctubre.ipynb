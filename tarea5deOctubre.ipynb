{
  "nbformat": 4,
  "nbformat_minor": 0,
  "metadata": {
    "colab": {
      "name": "5deOctubre.ipynb",
      "provenance": [],
      "collapsed_sections": [],
      "authorship_tag": "ABX9TyNGL687ADs+AqbC4AUbogSU",
      "include_colab_link": true
    },
    "kernelspec": {
      "name": "python3",
      "display_name": "Python 3"
    }
  },
  "cells": [
    {
      "cell_type": "markdown",
      "metadata": {
        "id": "view-in-github",
        "colab_type": "text"
      },
      "source": [
        "<a href=\"https://colab.research.google.com/github/316141725/daa_2021_1/blob/master/tarea5deOctubre.ipynb\" target=\"_parent\"><img src=\"https://colab.research.google.com/assets/colab-badge.svg\" alt=\"Open In Colab\"/></a>"
      ]
    },
    {
      "cell_type": "code",
      "metadata": {
        "id": "ADjwRE0rBGKK"
      },
      "source": [
        ""
      ],
      "execution_count": null,
      "outputs": []
    },
    {
      "cell_type": "markdown",
      "metadata": {
        "id": "Ib8pUFYgBdwb"
      },
      "source": [
        "#Estructuras de datos Pila (Stack)\n",
        "- Last In First Out (LIFO)\n",
        "- De tipo lineal\n",
        "- Se pueden obtener e ingresar datos desde el tope \n",
        "- push para agregar \n",
        "- pop para sacar\n",
        "\n",
        "##Operaciones de pilas \n",
        "1. is_empty (regresa true or false)\n",
        "1. get_top (regresa el elemento en el tope )\n",
        "1. poo (saca el elemneto del tope y lo regresa)\n",
        "1. push (mete un elemento en el tope)\n",
        "1. get_launch (regresa el número de elementos de la pila)"
      ]
    },
    {
      "cell_type": "code",
      "metadata": {
        "id": "bEexXnlsCrY2"
      },
      "source": [
        "class Stack:\n",
        "  def __init__( self ):\n",
        "    self.__datos=[]\n",
        "\n",
        "  def is_empty( self ):\n",
        "    return len(self.__datos) == 0\n",
        "\n",
        "  def get_top( self ):\n",
        "    return self.__datos[-1]\n",
        "\n",
        "  def pop( self ):\n",
        "    return self.__datos.pop()\n",
        "\n",
        "  def push( self,valor ):\n",
        "    self.__datos.append(valor)\n",
        "\n",
        "  def get_length( self ):\n",
        "    return len(self.__datos)\n",
        "\n",
        "  def to_string( self ):\n",
        "    print(\"----------------------------\")\n",
        "    for ele in self.__datos[-1::-1]:\n",
        "      print(f\" {ele} \")\n",
        "    print(\"----------------------------\\n\")\n",
        "  def valida_balanceo(cadena):\n",
        "    stack = []\n",
        "    abierto = ['{', '(' , '[']\n",
        "    cerrado = [\"}\" , \")\" , \"]\"]\n",
        "\n",
        "    for i in cadena:\n",
        "        if i in abierto:\n",
        "            stack.append(i)\n",
        "        elif i in cerrado:\n",
        "            pos = cerrado.index(i)\n",
        "            if ((len(stack)>0)) and (abierto[pos] == stack[len(stack)-1]):\n",
        "                stack.pop()\n",
        "            else:\n",
        "                return False\n",
        "    if len(stack) == 0:\n",
        "        return True\n",
        "    else: \n",
        "        return False"
      ],
      "execution_count": 3,
      "outputs": []
    },
    {
      "cell_type": "code",
      "metadata": {
        "id": "4D4TAINaCzM3",
        "outputId": "1c056dc2-03cc-4c39-d5be-324362221851",
        "colab": {
          "base_uri": "https://localhost:8080/",
          "height": 861
        }
      },
      "source": [
        "pila1 = Stack()\n",
        "pila1.push(10)\n",
        "pila1.push(12)\n",
        "pila1.push(32)\n",
        "pila1.push(54)\n",
        "pila1.push(51)\n",
        "pila1.to_string()\n",
        "\n",
        "sacado = pila1.pop()\n",
        "print(sacado)\n",
        "pila1.to_string()\n",
        "\n",
        "pila1.push(444)\n",
        "pila1.push(233)\n",
        "pila1.to_string()\n",
        "\n",
        "print(f\"El elemneto en el tope es: {pila1.get_top() }\")\n",
        "pila1.to_string()\n",
        "print(f\"La pila tiene {pila1.get_length() } elementos\")\n",
        "print(f\"¿La pila esta vacía? {pila1.is_empty() }\")\n",
        "\n",
        "balanceo = open(\"stack.c\")\n",
        "\n",
        "for i in balanceo:\n",
        "    print(i) \n",
        "\n",
        "print(valida_balanceo(balanceo))\n"
      ],
      "execution_count": 5,
      "outputs": [
        {
          "output_type": "stream",
          "text": [
            "----------------------------\n",
            " 51 \n",
            " 54 \n",
            " 32 \n",
            " 12 \n",
            " 10 \n",
            "----------------------------\n",
            "\n",
            "51\n",
            "----------------------------\n",
            " 54 \n",
            " 32 \n",
            " 12 \n",
            " 10 \n",
            "----------------------------\n",
            "\n",
            "----------------------------\n",
            " 233 \n",
            " 444 \n",
            " 54 \n",
            " 32 \n",
            " 12 \n",
            " 10 \n",
            "----------------------------\n",
            "\n",
            "El elemneto en el tope es: 233\n",
            "----------------------------\n",
            " 233 \n",
            " 444 \n",
            " 54 \n",
            " 32 \n",
            " 12 \n",
            " 10 \n",
            "----------------------------\n",
            "\n",
            "La pila tiene 6 elementos\n",
            "¿La pila esta vacía? False\n"
          ],
          "name": "stdout"
        },
        {
          "output_type": "error",
          "ename": "FileNotFoundError",
          "evalue": "ignored",
          "traceback": [
            "\u001b[0;31m---------------------------------------------------------------------------\u001b[0m",
            "\u001b[0;31mFileNotFoundError\u001b[0m                         Traceback (most recent call last)",
            "\u001b[0;32m<ipython-input-5-656de123c946>\u001b[0m in \u001b[0;36m<module>\u001b[0;34m()\u001b[0m\n\u001b[1;32m     20\u001b[0m \u001b[0mprint\u001b[0m\u001b[0;34m(\u001b[0m\u001b[0;34mf\"¿La pila esta vacía? {pila1.is_empty() }\"\u001b[0m\u001b[0;34m)\u001b[0m\u001b[0;34m\u001b[0m\u001b[0;34m\u001b[0m\u001b[0m\n\u001b[1;32m     21\u001b[0m \u001b[0;34m\u001b[0m\u001b[0m\n\u001b[0;32m---> 22\u001b[0;31m \u001b[0mbalanceo\u001b[0m \u001b[0;34m=\u001b[0m \u001b[0mopen\u001b[0m\u001b[0;34m(\u001b[0m\u001b[0;34m\"stack.c\"\u001b[0m\u001b[0;34m)\u001b[0m\u001b[0;34m\u001b[0m\u001b[0;34m\u001b[0m\u001b[0m\n\u001b[0m\u001b[1;32m     23\u001b[0m \u001b[0;34m\u001b[0m\u001b[0m\n\u001b[1;32m     24\u001b[0m \u001b[0;32mfor\u001b[0m \u001b[0mi\u001b[0m \u001b[0;32min\u001b[0m \u001b[0mbalanceo\u001b[0m\u001b[0;34m:\u001b[0m\u001b[0;34m\u001b[0m\u001b[0;34m\u001b[0m\u001b[0m\n",
            "\u001b[0;31mFileNotFoundError\u001b[0m: [Errno 2] No such file or directory: 'stack.c'"
          ]
        }
      ]
    },
    {
      "cell_type": "markdown",
      "metadata": {
        "id": "pdyujuqnJI3l"
      },
      "source": [
        "#Ejemplo de aplicacion de pilas \n",
        "x=4+5+6+3\n",
        "x=4+(5+6)+3\n",
        "x=4+5+6)+3\n",
        "x=(4+(5+6)+3)\n",
        "\n",
        "if(a==b){ System.out.println(b) \n",
        "if(a==b){ System.out.println(b}\n",
        "\n",
        "#Reglas\n",
        "### '(' ---> push('')\n",
        "### ')' ---> pop()\n",
        "Si al final del recorrido la piula esta vacia, entonces la cadena es corrrecta.\n",
        "Si en un pop desencadena en querer sacar un elemento de la pila vacia, significa que la cadena no esta balanceada."
      ]
    },
    {
      "cell_type": "markdown",
      "metadata": {
        "id": "-cxxeF50NJYP"
      },
      "source": [
        "#Tarea\n",
        "Hacer un programa que valide el balanveo de '()' , '[]' y '{}' en programas del Lenguaje C y Java.\n",
        "\n",
        "-Tomando como base el codigo de la clase\n"
      ]
    },
    {
      "cell_type": "markdown",
      "metadata": {
        "id": "TwlWm-eLkhxb"
      },
      "source": [
        ""
      ]
    }
  ]
}