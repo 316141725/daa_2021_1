{
  "nbformat": 4,
  "nbformat_minor": 0,
  "metadata": {
    "colab": {
      "name": "7deOctubre.ipynb",
      "provenance": [],
      "authorship_tag": "ABX9TyNjAFXc9l1q8cbBLFic5wle",
      "include_colab_link": true
    },
    "kernelspec": {
      "name": "python3",
      "display_name": "Python 3"
    }
  },
  "cells": [
    {
      "cell_type": "markdown",
      "metadata": {
        "id": "view-in-github",
        "colab_type": "text"
      },
      "source": [
        "<a href=\"https://colab.research.google.com/github/316141725/daa_2021_1/blob/master/7deOctubre.ipynb\" target=\"_parent\"><img src=\"https://colab.research.google.com/assets/colab-badge.svg\" alt=\"Open In Colab\"/></a>"
      ]
    },
    {
      "cell_type": "code",
      "metadata": {
        "id": "NQlRDxN8SSW-"
      },
      "source": [
        ""
      ],
      "execution_count": null,
      "outputs": []
    },
    {
      "cell_type": "markdown",
      "metadata": {
        "id": "yXfcKBq-S9Mh"
      },
      "source": [
        "#Busqueda Lineal\n",
        "\n",
        "Dado un conjunto de ddatos no ordenados, la busqueda linela cinsiste en recorrer el conjunto de datos desde el inicio al final, moviendose de uno en uno hasta encontrar el elemento o llegar hasta al final del conjunto.\n",
        "\n",
        "datos = [4,18,47,2,34,14,78,12,48,21,31,19,1,3,5]\n",
        "\n",
        "#Busqueda Binaria\n",
        "\n",
        "funciona ssobre un conjunto de datos lineal ordenado.\n",
        "Consiste en dividir el conjunto en mitades y buscar en esa mitad. Si el elemento buscado no esta a la derecha o a la izquierda. Haces la lista igual a la mitad correspondiente y repites el proceso. \n",
        "\n",
        "L=[4,18,47,2,34,14,78,12,48,21,31,19,1,3,5]\n",
        "\n",
        "DER = longitud( L ) -1\n",
        "IZQ = 0 \n",
        "MID apuntara a la mitad del segmento de busqueda\n",
        "\n",
        "buscado: es el valor a buscar\n",
        "\n",
        "1. Hacer DER = longitud( L ) -1\n",
        "2. Hacer IZQ = 0\n",
        "3. Si IZQ > DER significa que hay un error en los datos.\n",
        "4.calcular MID = int((IZQ + DER)/2)\n",
        "5. mientras L[MID] != buscadro hacer\n",
        "6.    preguntar l[MID] > buscado \n",
        "          hacer DER = mid \n",
        "      de lo contrario \n",
        "          hacer IZQ = mid\n",
        "      preguntat (DER-IZQ)%2\n",
        "          MID = (IZQ + ((DER-IZQ)/2))+1\n",
        "      de lo contrario\n",
        "          MID = IZQ + ((DER - IZQ)/2)   \n",
        "7. Return MID   \n",
        "\n",
        "\n"
      ]
    },
    {
      "cell_type": "code",
      "metadata": {
        "id": "Ucf-zvZQTlzb"
      },
      "source": [
        "\"\"\"\n",
        "Busqeuda lineal\n",
        "regresa la posisicon del elemento 'buscado' si se encuentra dentro de la lista.\n",
        "regresa -1 si elemento buscado no existe dentro de la lista.\n",
        "\"\"\"\n",
        "def busqueda_lineal(L , buscado):\n",
        "  indice = -1\n",
        "  contador = 0\n",
        "  for idx in range(len(L)):\n",
        "    contador += 1\n",
        "    if L[idx] == buscado:\n",
        "      indice = idx\n",
        "      break\n",
        "  print(contador)\n",
        "  return indice\n",
        "\"\"\"\n",
        "Busqueda binaria\n",
        "\"\"\"\n",
        "def busqueda_binaria( L , buscado ):\n",
        "  IZQ=0\n",
        "  DER = len(L)-1\n",
        "  MID = int((IZQ + DER)/2)\n",
        "  if len(L) % 2 == 0:\n",
        "    MID= (DER//2)+1\n",
        "  else:\n",
        "    MID = DER//2\n",
        "  while (L[MID] != buscado):\n",
        "    if L[MID] > buscado:\n",
        "      DER = MID\n",
        "    else:\n",
        "      IZQ = MID\n",
        "    if (DER - IZQ) % 2 == 0:\n",
        "      MID = (IZQ+ ((DER - IZQ)//2))+1\n",
        "    else:\n",
        "      MID = IZQ+ ((DER - IZQ)//2)\n",
        "  return MID\n",
        "\"\"\"\n",
        "Busqueda lineal\n",
        "\"\"\"\n",
        "\n",
        "def main():\n",
        "  datos = [ 4,18,47,2,34,14,78,12,48,21,31,19,1,3,5]\n",
        "  dato = int(input(\"Que valor quieres buscar: \"))\n",
        "  resultado = busqueda_lineal(datos, dato)\n",
        "  print(\"Resultado: \",resultado)\n",
        "\n",
        "  print(\"Busqueda linal en una lista ordenada\")\n",
        "  datos.sort()\n",
        "  print(datos)\n",
        "  resultado = busqueda_lineal(datos, dato)\n",
        "  print(\"Resultado: \",resultado)\n",
        "\n",
        "  print(\"Busqueda binaria\")\n",
        "  posicion  = busqueda_binaria( datos , dato)\n",
        "  print(f\"\")\n",
        "main()"
      ],
      "execution_count": null,
      "outputs": []
    }
  ]
}