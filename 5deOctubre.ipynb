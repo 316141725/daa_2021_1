{
  "nbformat": 4,
  "nbformat_minor": 0,
  "metadata": {
    "colab": {
      "name": "5Octubre",
      "provenance": [],
      "authorship_tag": "ABX9TyPIg5cnYKRvd20YxYCnhC5s",
      "include_colab_link": true
    },
    "kernelspec": {
      "name": "python3",
      "display_name": "Python 3"
    }
  },
  "cells": [
    {
      "cell_type": "markdown",
      "metadata": {
        "id": "view-in-github",
        "colab_type": "text"
      },
      "source": [
        "<a href=\"https://colab.research.google.com/github/316141725/daa_2021_1/blob/master/5deOctubre.ipynb\" target=\"_parent\"><img src=\"https://colab.research.google.com/assets/colab-badge.svg\" alt=\"Open In Colab\"/></a>"
      ]
    },
    {
      "cell_type": "code",
      "metadata": {
        "id": "JXuo7bpsOwKF"
      },
      "source": [
        ""
      ],
      "execution_count": null,
      "outputs": []
    },
    {
      "cell_type": "markdown",
      "metadata": {
        "id": "AQiYL4fEO2go"
      },
      "source": [
        "#Estructuras de datos Pila (Stack)\n",
        "- Last In First Out (LIFO)\n",
        "- De tipo lineal\n",
        "- Se pueden obtener e ingresar datos desde el tope \n",
        "- push para agregar \n",
        "- pop para sacar\n",
        "\n",
        "##Operaciones de pilas \n",
        "1. is_empty (regresa true or false)\n",
        "1. get_top (regresa el elemnto en el tope )\n",
        "1. poo (saca el elemneto del tope y lo regresa)\n",
        "1. push (mete un elemento en el tope)\n",
        "1. get_launch (regresa el número de elementos de la pila)"
      ]
    },
    {
      "cell_type": "code",
      "metadata": {
        "id": "aTc4-StWO3cc"
      },
      "source": [
        "class Stack:\n",
        "  def __init__( self ):\n",
        "    self.__datos=[]\n",
        "\n",
        "  def is_empty( self ):\n",
        "    return len(self.__datos) == 0\n",
        "\n",
        "  def get_top( self ):\n",
        "    return self.__datos[-1]\n",
        "\n",
        "  def pop( self ):\n",
        "    return self.__datos.pop()\n",
        "\n",
        "  def push( self,valor ):\n",
        "    self.__datos.append(valor)\n",
        "\n",
        "  def get_length( self ):\n",
        "    return len(self.__datos)\n",
        "\n",
        "  def to_string( self ):\n",
        "    print(\"----------------------------\")\n",
        "    for ele in self.__datos[-1::-1]:\n",
        "      print(f\" {ele} \")\n",
        "    print(\"----------------------------\\n\")"
      ],
      "execution_count": null,
      "outputs": []
    },
    {
      "cell_type": "code",
      "metadata": {
        "id": "l0e1Tbc2O6y4"
      },
      "source": [
        "pila1 = Stack()\n",
        "pila1.push(10)\n",
        "pila1.push(12)\n",
        "pila1.push(32)\n",
        "pila1.push(54)\n",
        "pila1.push(51)\n",
        "pila1.to_string()\n",
        "\n",
        "sacado = pila1.pop()\n",
        "print(sacado)\n",
        "pila1.to_string()\n",
        "\n",
        "pila1.push(444)\n",
        "pila1.push(233)\n",
        "pila1.to_string()\n",
        "\n",
        "print(f\"El elemneto en el tope es: {pila1.get_top() }\")\n",
        "pila1.to_string()\n",
        "print(f\"La pila tiene {pila1.get_length() } elementos\")\n",
        "print(f\"¿La pila esta vacía? {pila1.is_empty() }\")"
      ],
      "execution_count": null,
      "outputs": []
    },
    {
      "cell_type": "markdown",
      "metadata": {
        "id": "B-4Q2sWqPBHe"
      },
      "source": [
        "#Ejemplo de aplicacion de pilas \n",
        "x=4+5+6+3\n",
        "x=4+(5+6)+3\n",
        "x=4+5+6)+3\n",
        "x=(4+(5+6)+3)\n",
        "\n",
        "if(a==b){ System.out.println(b) \n",
        "if(a==b){ System.out.println(b}\n",
        "\n",
        "#Reglas\n",
        "### '(' ---> push('')\n",
        "### ')' ---> pop()\n",
        "Si al final del recorrido la piula esta vacia, entonces la cadena es corrrecta.\n",
        "Si en un pop desencadena en querer sacar un elemento de la pila vacia, significa que la cadena no esta balanceada."
      ]
    },
    {
      "cell_type": "markdown",
      "metadata": {
        "id": "j7C_9RTqPF_a"
      },
      "source": [
        "#Tarea\n",
        "Hacer un programa que valide el balanveo de '()' , '[]' y '{}' en programas del Lenguaje C y Java.\n",
        "\n",
        "-Tomando como base el codigo de la clase"
      ]
    }
  ]
}