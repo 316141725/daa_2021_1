{
  "nbformat": 4,
  "nbformat_minor": 0,
  "metadata": {
    "colab": {
      "name": "21Octubre.ipynb",
      "provenance": [],
      "authorship_tag": "ABX9TyOsbRlRSYIXyy+cil8xEfyY",
      "include_colab_link": true
    },
    "kernelspec": {
      "name": "python3",
      "display_name": "Python 3"
    }
  },
  "cells": [
    {
      "cell_type": "markdown",
      "metadata": {
        "id": "view-in-github",
        "colab_type": "text"
      },
      "source": [
        "<a href=\"https://colab.research.google.com/github/316141725/daa_2021_1/blob/master/21Octubre.ipynb\" target=\"_parent\"><img src=\"https://colab.research.google.com/assets/colab-badge.svg\" alt=\"Open In Colab\"/></a>"
      ]
    },
    {
      "cell_type": "code",
      "metadata": {
        "id": "W4iQMVJmfjLn",
        "outputId": "0c66af24-7678-41d7-cfb5-1d1d3f2e2844",
        "colab": {
          "base_uri": "https://localhost:8080/",
          "height": 52
        }
      },
      "source": [
        "def ejemplo1( n ):\n",
        "    c = n + 1\n",
        "    d = c * n\n",
        "    e = n * n\n",
        "    total = c + e - d\n",
        "    print(f\"total={ total }\")\n",
        "ejemplo1( 99999 )\n",
        "\"4\""
      ],
      "execution_count": null,
      "outputs": [
        {
          "output_type": "stream",
          "text": [
            "total=1\n"
          ],
          "name": "stdout"
        },
        {
          "output_type": "execute_result",
          "data": {
            "application/vnd.google.colaboratory.intrinsic+json": {
              "type": "string"
            },
            "text/plain": [
              "'4'"
            ]
          },
          "metadata": {
            "tags": []
          },
          "execution_count": 2
        }
      ]
    },
    {
      "cell_type": "code",
      "metadata": {
        "id": "KUbas2pgaok5",
        "outputId": "7c16c734-1f49-45a9-f1a8-0b62cee63f20",
        "colab": {
          "base_uri": "https://localhost:8080/",
          "height": 34
        }
      },
      "source": [
        "def ejemplo2( n ):\n",
        "    contador = 0\n",
        "    for i in range( n ) :\n",
        "        for j in range( n ) :\n",
        "            contador += 1\n",
        "    return contador\n",
        "\n",
        "ejemplo2( 20 )\n",
        "\"1+n^2\""
      ],
      "execution_count": null,
      "outputs": [
        {
          "output_type": "execute_result",
          "data": {
            "text/plain": [
              "400"
            ]
          },
          "metadata": {
            "tags": []
          },
          "execution_count": 1
        }
      ]
    },
    {
      "cell_type": "code",
      "metadata": {
        "id": "-4RwIHGNcYXR"
      },
      "source": [
        "def ejemplo3( n ): # n=4\n",
        "    x = n * 2 # x = 8\n",
        "    y = 0   # y = 0\n",
        "    for m in range( 100 ): #3\n",
        "        y = x - n   # y = 4\n",
        "    return y\n",
        "\n",
        "ejemplo3(1000000000)\n",
        "\"102\""
      ],
      "execution_count": null,
      "outputs": []
    },
    {
      "cell_type": "code",
      "metadata": {
        "id": "eOAPFKz2fy5Z"
      },
      "source": [
        "def ejemplo4( n ):\n",
        "    x = 3 * 3.1416 + n\n",
        "    y = x + 3 * 3 - n\n",
        "    z = x + y\n",
        "    return z\n",
        "\n",
        "ejemplo4(9)\n",
        "\"3\""
      ],
      "execution_count": null,
      "outputs": []
    },
    {
      "cell_type": "code",
      "metadata": {
        "id": "UXYjQdo-f-I3"
      },
      "source": [
        "def ejemplo5( x ):\n",
        "    n = 10\n",
        "    for j in range( 0 , x , 1 ):\n",
        "        n = j + n\n",
        "    return n\n",
        "\n",
        "ejemplo5(10)\n",
        "\"1+x\""
      ],
      "execution_count": null,
      "outputs": []
    },
    {
      "cell_type": "code",
      "metadata": {
        "id": "kl4D6PgYgeIR",
        "outputId": "438b591b-fa50-440a-b065-ffd707f46503",
        "colab": {
          "base_uri": "https://localhost:8080/",
          "height": 205
        }
      },
      "source": [
        "from time import time\n",
        "\n",
        "def ejemplo6( n ):\n",
        "    start_time = time()\n",
        "    data=[[[1 for x in range(n)] for x in range(n)] for x in range(n)]\n",
        "    suma = 0\n",
        "    for d in range(n):\n",
        "        for r in range(n):\n",
        "            for c in range(n):\n",
        "                suma += data[d][r][c]\n",
        "    elapsed_time = time() - start_time\n",
        "    print(\"Tiempo transcurrido: %0.10f segundos.\" % elapsed_time)\n",
        "    return suma\n",
        "for entrada in range(100,1100,100):\n",
        "  ejemplo6(entrada)\n",
        "\"2+n^3\""
      ],
      "execution_count": null,
      "outputs": [
        {
          "output_type": "stream",
          "text": [
            "Tiempo transcurrido: 0.2004561424 segundos.\n",
            "Tiempo transcurrido: 1.0373964310 segundos.\n",
            "Tiempo transcurrido: 3.6871922016 segundos.\n",
            "Tiempo transcurrido: 9.4246127605 segundos.\n",
            "Tiempo transcurrido: 17.8479111195 segundos.\n",
            "Tiempo transcurrido: 32.5513832569 segundos.\n",
            "Tiempo transcurrido: 52.4353072643 segundos.\n",
            "Tiempo transcurrido: 79.1375248432 segundos.\n",
            "Tiempo transcurrido: 113.8364212513 segundos.\n",
            "Tiempo transcurrido: 156.1081504822 segundos.\n"
          ],
          "name": "stdout"
        },
        {
          "output_type": "execute_result",
          "data": {
            "application/vnd.google.colaboratory.intrinsic+json": {
              "type": "string"
            },
            "text/plain": [
              "'2+n^3'"
            ]
          },
          "metadata": {
            "tags": []
          },
          "execution_count": 3
        }
      ]
    },
    {
      "cell_type": "markdown",
      "metadata": {
        "id": "VjB5QxnUzPJq"
      },
      "source": [
        "#23 de Octubre\n"
      ]
    },
    {
      "cell_type": "code",
      "metadata": {
        "id": "rHstcM64zaOf"
      },
      "source": [
        "def ejemplo7( n ):\n",
        "    count = 0\n",
        "    for i in range( n ) :\n",
        "        for j in range( 25 ) :\n",
        "            for k in range( n ):\n",
        "                count += 1\n",
        "    return count\n",
        "\"1+25n^2\""
      ],
      "execution_count": null,
      "outputs": []
    },
    {
      "cell_type": "code",
      "metadata": {
        "id": "k2YESYOg1K2J",
        "outputId": "e37671d6-e668-43d3-b90f-b0e3dd4c7b3f",
        "colab": {
          "base_uri": "https://localhost:8080/",
          "height": 52
        }
      },
      "source": [
        "def ejemplo7_2( n ):\n",
        "    count = 0\n",
        "    for i in range( n ) :\n",
        "        for j in range( 25 ) :\n",
        "            for k in range( n ):\n",
        "                count += 1\n",
        "            for k in range( n ):\n",
        "                count += 1\n",
        "    return count\n",
        "print(ejemplo7_2(3))\n",
        "\"1+25n^2+25n^2 = 1+50n^2\""
      ],
      "execution_count": null,
      "outputs": [
        {
          "output_type": "stream",
          "text": [
            "450\n"
          ],
          "name": "stdout"
        },
        {
          "output_type": "execute_result",
          "data": {
            "application/vnd.google.colaboratory.intrinsic+json": {
              "type": "string"
            },
            "text/plain": [
              "'1+25n^2+25n^2 = 1+50n^2'"
            ]
          },
          "metadata": {
            "tags": []
          },
          "execution_count": 21
        }
      ]
    },
    {
      "cell_type": "code",
      "metadata": {
        "id": "1rPWSJmz_NO_"
      },
      "source": [
        "def ejemplo8( numeros ): # numeros es una lista (arreglo en c)\n",
        "    total = 0\n",
        "    for index in range(len(numeros)):\n",
        "        total = numeros[index]\n",
        "    return total\n",
        "ejemplo8(numeros(8))\n",
        "\"1+n\""
      ],
      "execution_count": null,
      "outputs": []
    },
    {
      "cell_type": "code",
      "metadata": {
        "id": "HSsR5vkO41lr",
        "outputId": "1191350e-449a-4935-ead8-648f04c00afb",
        "colab": {
          "base_uri": "https://localhost:8080/",
          "height": 52
        }
      },
      "source": [
        "def ejemplo9(  n ):\n",
        "    contador = 0\n",
        "    basura = 0\n",
        "    for i in range( n ) :\n",
        "        contador += 1\n",
        "    for j in range( n ) :\n",
        "        contador += 1\n",
        "    basura = basura + contador\n",
        "    return contador\n",
        "\n",
        "\n",
        "print(ejemplo9( 5 ))\n",
        "\"3+2n\""
      ],
      "execution_count": null,
      "outputs": [
        {
          "output_type": "stream",
          "text": [
            "10\n"
          ],
          "name": "stdout"
        },
        {
          "output_type": "execute_result",
          "data": {
            "application/vnd.google.colaboratory.intrinsic+json": {
              "type": "string"
            },
            "text/plain": [
              "'3+2n'"
            ]
          },
          "metadata": {
            "tags": []
          },
          "execution_count": 17
        }
      ]
    },
    {
      "cell_type": "code",
      "metadata": {
        "id": "i2w6yIQK415h",
        "outputId": "07955451-875a-48a8-be02-1b451c60fb58",
        "colab": {
          "base_uri": "https://localhost:8080/",
          "height": 86
        }
      },
      "source": [
        "def ejemplo10( n ):\n",
        "    count = 0\n",
        "    for i in range( n ) :\n",
        "        for j in range( i+1 ) :\n",
        "            count += 1\n",
        "    return count\n",
        "print(ejemplo10(5))\n",
        "\"T(n) = 1 + (n^2+n)/ 2\"\n",
        "\"\"\"\n",
        "\n",
        "n= 3\n",
        "000\n",
        "n00 <-- aqui empieza el for interno\n",
        "nn0 <--- aqui termina el for interno\n",
        "nnn\n",
        "\\n\n",
        "n = 4\n",
        "0000\n",
        "n000 <-- aqui empieza el for interno\n",
        "nn00\n",
        "nnn0 <--- aqui termina el for interno\n",
        "nnnn\n",
        "\\n\n",
        "n =5\n",
        "00000\n",
        "n0000 <-- aqui empieza el for interno\n",
        "nn000\n",
        "nnn00\n",
        "nnnn0 <--- aqui termina el for interno\n",
        "nnnnn\n",
        "\"\"\""
      ],
      "execution_count": 2,
      "outputs": [
        {
          "output_type": "stream",
          "text": [
            "15\n"
          ],
          "name": "stdout"
        },
        {
          "output_type": "execute_result",
          "data": {
            "application/vnd.google.colaboratory.intrinsic+json": {
              "type": "string"
            },
            "text/plain": [
              "'\\n\\nn= 3\\n000\\nn00 <-- aqui empieza el for interno\\nnn0 <--- aqui termina el for interno\\nnnn\\n\\n\\nn = 4\\n0000\\nn000 <-- aqui empieza el for interno\\nnn00\\nnnn0 <--- aqui termina el for interno\\nnnnn\\n\\n\\nn =5\\n00000\\nn0000 <-- aqui empieza el for interno\\nnn000\\nnnn00\\nnnnn0 <--- aqui termina el for interno\\nnnnnn\\n'"
            ]
          },
          "metadata": {
            "tags": []
          },
          "execution_count": 2
        }
      ]
    },
    {
      "cell_type": "markdown",
      "metadata": {
        "id": "64hOKYiZgkZF"
      },
      "source": [
        "#26 de Octubre"
      ]
    },
    {
      "cell_type": "code",
      "metadata": {
        "id": "7Prx6MFMgrrO",
        "outputId": "28485c79-ce2b-4f11-ad56-7cfdce6c4511",
        "colab": {
          "base_uri": "https://localhost:8080/",
          "height": 52
        }
      },
      "source": [
        "def ejemplo11( n ):\n",
        "    count = 0\n",
        "    i = n\n",
        "    while i > 1 :\n",
        "        count += 1\n",
        "        i = i // 2 \n",
        "    return count\n",
        "print(ejemplo11(16))\n",
        "\"2+2log2(n)\""
      ],
      "execution_count": 3,
      "outputs": [
        {
          "output_type": "stream",
          "text": [
            "4\n"
          ],
          "name": "stdout"
        },
        {
          "output_type": "execute_result",
          "data": {
            "application/vnd.google.colaboratory.intrinsic+json": {
              "type": "string"
            },
            "text/plain": [
              "'2+2log2(n)'"
            ]
          },
          "metadata": {
            "tags": []
          },
          "execution_count": 3
        }
      ]
    },
    {
      "cell_type": "code",
      "metadata": {
        "id": "xvrVKhPbhpqy"
      },
      "source": [
        "def ejemplo12( n ):\n",
        "    contador = 0\n",
        "    for x in range(n):\n",
        "        contador += ejemplo11(x)\n",
        "    return contador\n",
        "\"1+n(2+2log2(n))\""
      ],
      "execution_count": null,
      "outputs": []
    },
    {
      "cell_type": "code",
      "metadata": {
        "id": "16u4dyqamEHv",
        "outputId": "850755f8-26cc-4a7f-8c29-1ddc24b46472",
        "colab": {
          "base_uri": "https://localhost:8080/",
          "height": 103
        }
      },
      "source": [
        "def ejemplo13( x ):\n",
        "    bandera = x\n",
        "    contador = 0\n",
        "    while( bandera >= 10):\n",
        "        print(f\" x = { bandera } \")\n",
        "        bandera /= 10\n",
        "        contador = contador + 1\n",
        "    print(contador)\n",
        "ejemplo13( 1000 )\n",
        "\"log10(x)+1\""
      ],
      "execution_count": 4,
      "outputs": [
        {
          "output_type": "stream",
          "text": [
            " x = 1000 \n",
            " x = 100.0 \n",
            " x = 10.0 \n",
            "3\n"
          ],
          "name": "stdout"
        },
        {
          "output_type": "execute_result",
          "data": {
            "application/vnd.google.colaboratory.intrinsic+json": {
              "type": "string"
            },
            "text/plain": [
              "'log10(x)+1'"
            ]
          },
          "metadata": {
            "tags": []
          },
          "execution_count": 4
        }
      ]
    },
    {
      "cell_type": "code",
      "metadata": {
        "id": "if-pDbnfmmyp",
        "outputId": "969cfd5f-5598-4674-8413-125b6485bada",
        "colab": {
          "base_uri": "https://localhost:8080/",
          "height": 52
        }
      },
      "source": [
        "def ejemplo14( n ):\n",
        "    y = n\n",
        "    z = n\n",
        "    contador = 0\n",
        "    while y >= 3: #3\n",
        "        y /= 3  # 1\n",
        "        contador += 1  # cont =3\n",
        "    \n",
        "    while z >= 3: #27\n",
        "        z /= 3\n",
        "        contador += 1\n",
        "    return contador\n",
        "print(ejemplo14( 27 ))\n",
        "\"2log3(n)\""
      ],
      "execution_count": 5,
      "outputs": [
        {
          "output_type": "stream",
          "text": [
            "6\n"
          ],
          "name": "stdout"
        },
        {
          "output_type": "execute_result",
          "data": {
            "application/vnd.google.colaboratory.intrinsic+json": {
              "type": "string"
            },
            "text/plain": [
              "'2log3(n)'"
            ]
          },
          "metadata": {
            "tags": []
          },
          "execution_count": 5
        }
      ]
    },
    {
      "cell_type": "code",
      "metadata": {
        "id": "JcA4MPEIosFj"
      },
      "source": [
        "def ejemplo15( n ): \n",
        "    contador = 0\n",
        "    for i in range( n ) :\n",
        "        for j in range( n ) :\n",
        "            contador += 1\n",
        "            \n",
        "    while n > 1 :\n",
        "        contador += 1\n",
        "        n /= 2\n",
        "    return contador\n",
        "\n",
        "print(ejemplo15(10))\n",
        "\"1 + n^2+ log2(n)\""
      ],
      "execution_count": null,
      "outputs": []
    }
  ]
}