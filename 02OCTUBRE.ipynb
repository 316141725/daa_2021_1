{
  "nbformat": 4,
  "nbformat_minor": 0,
  "metadata": {
    "colab": {
      "name": "02OCTUBRE.ipynb",
      "provenance": [],
      "authorship_tag": "ABX9TyMBLZXe6U3EwD45I8STlSNS",
      "include_colab_link": true
    },
    "kernelspec": {
      "name": "python3",
      "display_name": "Python 3"
    }
  },
  "cells": [
    {
      "cell_type": "markdown",
      "metadata": {
        "id": "view-in-github",
        "colab_type": "text"
      },
      "source": [
        "<a href=\"https://colab.research.google.com/github/316141725/daa_2021_1/blob/master/02OCTUBRE.ipynb\" target=\"_parent\"><img src=\"https://colab.research.google.com/assets/colab-badge.svg\" alt=\"Open In Colab\"/></a>"
      ]
    },
    {
      "cell_type": "code",
      "metadata": {
        "id": "snR_3iuGMkyX"
      },
      "source": [
        "class node:\n",
        "    def __init__(self, data=None, next=None):\n",
        "        self.data=data\n",
        "        self.next=next\n",
        "class lista_enlazada:\n",
        "    def __init__(self):\n",
        "        self.head=None\n",
        "\n",
        "    def add_at_front(self, data):\n",
        "        self.head=node(data=data, next=self.head)\n",
        "\n",
        "    def add_at_end(self, data):\n",
        "        if not self.head:\n",
        "            self.head = node(data=data)\n",
        "            return\n",
        "        curr = self.head\n",
        "        while curr.next:\n",
        "            curr = curr.next\n",
        "        curr.next = node(data=data)\n",
        "\n",
        "    def print_list( self ):\n",
        "        node = self.head\n",
        "        while node != None:\n",
        "            print(node.data, end =\" => \")\n",
        "            node = node.next\n",
        "import xlrd\n",
        "path = \"C:/Users/RAFA_/Desktop/1989Precip.xls\"\n",
        "inputWorkbook  = xlrd.open_workbook(path)\n",
        "inputWorksheet = inputWorkbook.sheet_by_index(0)\n",
        "\n",
        "for i in range(1,26,1):\n",
        "    ls=lista_enlazada()\n",
        "    ls.add_at_front(inputWorksheet.cell_value(i,0))\n",
        "    ls.add_at_end(inputWorksheet.cell_value(i,9))\n",
        "    #ls.print_list()\n",
        "    #Con esta línea de código se puede verificar que se cargaron los datos en el ADT\n",
        "\n",
        "print(\"¿Qué dato necesitas?\")\n",
        "while(True):\n",
        "    print(\"\\nRESPONDA CON ESTADO O NACIONAL\")\n",
        "    clave=input()\n",
        "    if clave.upper()==\"ESTADO\" or clave.upper()==\"EST\":\n",
        "        print(\"¿Qué estado? 1-32 NACIONAL=33\")\n",
        "        est=int(input())\n",
        "        est=est+2\n",
        "        print(\"¿Qué mes? 1-12 ANUAL=13\")\n",
        "        mes=int(input())\n",
        "        for i in range(1,est,1):\n",
        "            ls=lista_enlazada()\n",
        "            ls.add_at_front(inputWorksheet.cell_value(i,0))\n",
        "            ls.add_at_end(inputWorksheet.cell_value(i,mes))\n",
        "            ls.print_list()\n",
        "            #Con esta línea de código se puede verificar que se cargaron los datos en el ADT\n",
        "            print(\"----\")\n",
        "        #print(\"¿Qué estado quieres?\")\n",
        "        #est=input()\n",
        "\n",
        "    elif clave.upper()==\"NACIONAL\":\n",
        "        ls.print_list()"
      ],
      "execution_count": null,
      "outputs": []
    }
  ]
}