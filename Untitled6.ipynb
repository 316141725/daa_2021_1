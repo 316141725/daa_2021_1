{
  "nbformat": 4,
  "nbformat_minor": 0,
  "metadata": {
    "colab": {
      "name": "Untitled6.ipynb",
      "provenance": [],
      "authorship_tag": "ABX9TyOiJlJCcDImydbu2THCN1nY",
      "include_colab_link": true
    },
    "kernelspec": {
      "name": "python3",
      "display_name": "Python 3"
    }
  },
  "cells": [
    {
      "cell_type": "markdown",
      "metadata": {
        "id": "view-in-github",
        "colab_type": "text"
      },
      "source": [
        "<a href=\"https://colab.research.google.com/github/316141725/daa_2021_1/blob/master/Untitled6.ipynb\" target=\"_parent\"><img src=\"https://colab.research.google.com/assets/colab-badge.svg\" alt=\"Open In Colab\"/></a>"
      ]
    },
    {
      "cell_type": "code",
      "metadata": {
        "colab": {
          "base_uri": "https://localhost:8080/"
        },
        "id": "2PaJ-kAvL63d",
        "outputId": "8c8903a5-c7a9-4d30-9a73-83ab5912ef3d"
      },
      "source": [
        "texto =\"\"\"El lema que anima a la Universidad Nacional, Por mi raza hablará el espíritu, revela la vocación humanística\n",
        "con la que fue concebida. El autor de esta célebre frase, José Vasconcelos, asumió la rectoría en 1920, en una\n",
        "época en que las esperanzas de la Revolución aún estaban vivas,\n",
        "Había una gran fe en la Patria y el ánimo redentor se extendía en el ambiente. \"\"\"\n",
        "\n",
        "print (f\"\\n {texto} \\n\")\n",
        "\n",
        "Signo = \",.\"\n",
        "salto = \"\\n\"\n",
        "a = \"á\"\n",
        "e = \"é\"\n",
        "i = \"í\"\n",
        "o = \"ó\"\n",
        "u = \"ú\"\n",
        "\n",
        "\n",
        "for caracter in Signo:\n",
        "    texto = texto.replace(caracter, \"\")\n",
        "for caracter in salto:\n",
        "    texto = texto.replace(caracter, \" \")\n",
        "for caracter in a:\n",
        "    texto = texto.replace(caracter, \"a\")\n",
        "for caracter in e:\n",
        "    texto = texto.replace(caracter, \"e\")\n",
        "for caracter in i:\n",
        "    texto = texto.replace(caracter, \"i\")\n",
        "for caracter in o:\n",
        "    texto = texto.replace(caracter, \"o\")\n",
        "for caracter in u:\n",
        "    texto = texto.replace(caracter, \"u\")\n",
        "    \n",
        "textoMinusculas = texto.lower()\n",
        "\n",
        "textoFinal = textoMinusculas.split()\n",
        "\n",
        "print (f\"{textoFinal} \\n\")\n",
        "\n",
        "repeticiones = {}\n",
        "\n",
        "\n",
        "for palabra in textoFinal:\n",
        "    if palabra in repeticiones:\n",
        "        repeticiones[palabra] += 1\n",
        "    else:\n",
        "        repeticiones[palabra] = 1\n",
        "\n",
        "for palabra in repeticiones:\n",
        "    frecuencia = repeticiones[palabra]\n",
        "    print(f\"Palabra:'{palabra}', frecuencia: {frecuencia}\")\n"
      ],
      "execution_count": 3,
      "outputs": [
        {
          "output_type": "stream",
          "text": [
            "\n",
            " El lema que anima a la Universidad Nacional, Por mi raza hablará el espíritu, revela la vocación humanística\n",
            "con la que fue concebida. El autor de esta célebre frase, José Vasconcelos, asumió la rectoría en 1920, en una\n",
            "época en que las esperanzas de la Revolución aún estaban vivas,\n",
            "Había una gran fe en la Patria y el ánimo redentor se extendía en el ambiente.  \n",
            "\n",
            "['el', 'lema', 'que', 'anima', 'a', 'la', 'universidad', 'nacional', 'por', 'mi', 'raza', 'hablara', 'el', 'espiritu', 'revela', 'la', 'vocacion', 'humanistica', 'con', 'la', 'que', 'fue', 'concebida', 'el', 'autor', 'de', 'esta', 'celebre', 'frase', 'jose', 'vasconcelos', 'asumio', 'la', 'rectoria', 'en', '1920', 'en', 'una', 'epoca', 'en', 'que', 'las', 'esperanzas', 'de', 'la', 'revolucion', 'aun', 'estaban', 'vivas', 'habia', 'una', 'gran', 'fe', 'en', 'la', 'patria', 'y', 'el', 'animo', 'redentor', 'se', 'extendia', 'en', 'el', 'ambiente'] \n",
            "\n",
            "Palabra:'el', frecuencia: 5\n",
            "Palabra:'lema', frecuencia: 1\n",
            "Palabra:'que', frecuencia: 3\n",
            "Palabra:'anima', frecuencia: 1\n",
            "Palabra:'a', frecuencia: 1\n",
            "Palabra:'la', frecuencia: 6\n",
            "Palabra:'universidad', frecuencia: 1\n",
            "Palabra:'nacional', frecuencia: 1\n",
            "Palabra:'por', frecuencia: 1\n",
            "Palabra:'mi', frecuencia: 1\n",
            "Palabra:'raza', frecuencia: 1\n",
            "Palabra:'hablara', frecuencia: 1\n",
            "Palabra:'espiritu', frecuencia: 1\n",
            "Palabra:'revela', frecuencia: 1\n",
            "Palabra:'vocacion', frecuencia: 1\n",
            "Palabra:'humanistica', frecuencia: 1\n",
            "Palabra:'con', frecuencia: 1\n",
            "Palabra:'fue', frecuencia: 1\n",
            "Palabra:'concebida', frecuencia: 1\n",
            "Palabra:'autor', frecuencia: 1\n",
            "Palabra:'de', frecuencia: 2\n",
            "Palabra:'esta', frecuencia: 1\n",
            "Palabra:'celebre', frecuencia: 1\n",
            "Palabra:'frase', frecuencia: 1\n",
            "Palabra:'jose', frecuencia: 1\n",
            "Palabra:'vasconcelos', frecuencia: 1\n",
            "Palabra:'asumio', frecuencia: 1\n",
            "Palabra:'rectoria', frecuencia: 1\n",
            "Palabra:'en', frecuencia: 5\n",
            "Palabra:'1920', frecuencia: 1\n",
            "Palabra:'una', frecuencia: 2\n",
            "Palabra:'epoca', frecuencia: 1\n",
            "Palabra:'las', frecuencia: 1\n",
            "Palabra:'esperanzas', frecuencia: 1\n",
            "Palabra:'revolucion', frecuencia: 1\n",
            "Palabra:'aun', frecuencia: 1\n",
            "Palabra:'estaban', frecuencia: 1\n",
            "Palabra:'vivas', frecuencia: 1\n",
            "Palabra:'habia', frecuencia: 1\n",
            "Palabra:'gran', frecuencia: 1\n",
            "Palabra:'fe', frecuencia: 1\n",
            "Palabra:'patria', frecuencia: 1\n",
            "Palabra:'y', frecuencia: 1\n",
            "Palabra:'animo', frecuencia: 1\n",
            "Palabra:'redentor', frecuencia: 1\n",
            "Palabra:'se', frecuencia: 1\n",
            "Palabra:'extendia', frecuencia: 1\n",
            "Palabra:'ambiente', frecuencia: 1\n"
          ],
          "name": "stdout"
        }
      ]
    }
  ]
}