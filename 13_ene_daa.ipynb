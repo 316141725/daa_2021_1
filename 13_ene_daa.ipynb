{
  "nbformat": 4,
  "nbformat_minor": 0,
  "metadata": {
    "colab": {
      "name": "13_ene_daa.ipynb",
      "provenance": [],
      "authorship_tag": "ABX9TyMg25AXgdeCEl/00U68oBc1",
      "include_colab_link": true
    },
    "kernelspec": {
      "name": "python3",
      "display_name": "Python 3"
    }
  },
  "cells": [
    {
      "cell_type": "markdown",
      "metadata": {
        "id": "view-in-github",
        "colab_type": "text"
      },
      "source": [
        "<a href=\"https://colab.research.google.com/github/316141725/daa_2021_1/blob/master/13_ene_daa.ipynb\" target=\"_parent\"><img src=\"https://colab.research.google.com/assets/colab-badge.svg\" alt=\"Open In Colab\"/></a>"
      ]
    },
    {
      "cell_type": "code",
      "metadata": {
        "id": "kkHzRY5nMPut"
      },
      "source": [
        "class NodoArbol:\r\n",
        "    def __init__( self , dato ,  hijo_izq=None , hijo_der=None):\r\n",
        "        self.dato = dato\r\n",
        "        self.left = hijo_izq\r\n",
        "        self.right = hijo_der"
      ],
      "execution_count": null,
      "outputs": []
    },
    {
      "cell_type": "markdown",
      "metadata": {
        "id": "UHONA6CpS8pG"
      },
      "source": [
        "# Arbol Binatio de busqueda\r\n",
        "\r\n",
        "Los nodos a la izq son menores a la raiz y los nodos a la derecha son mayores a la raiz.\r\n",
        "\r\n",
        "Pueden ser recorrideos en: pre-orden, in-orden, y post-orden."
      ]
    },
    {
      "cell_type": "code",
      "metadata": {
        "id": "s4QW90NLTVR1"
      },
      "source": [
        "class BinarySearchTree:\r\n",
        "  def __init__( self ):\r\n",
        "    self.__root =  None\r\n",
        "\r\n",
        "  def insert( self, value ):\r\n",
        "    if self.__root == None:\r\n",
        "      self.__root = NodoArbol(value,None,None)\r\n",
        "    else:\r\n",
        "      # preguntar si vaulue es menor que root, de ser el caso\r\n",
        "      # insertar a la izq. pero... puede ser el caso que el\r\n",
        "      # sub arbol izq ya tenga muchos elementos...\r\n",
        "      self.__insert_nodo__( self.__root, value )\r\n",
        "  \r\n",
        "  def __insert_nodo__( self, nodo, value):\r\n",
        "    if nodo.dato == value:\r\n",
        "      pass\r\n",
        "    elif value < nodo.dato: # trueva a la IZQ\r\n",
        "      if nodo.left == None: # si hay espacio en la izq, ahi va \r\n",
        "        nodo.left = NodoArbol(value, None, None)# insertamos el nodo\r\n",
        "      else:\r\n",
        "        self.__insert_nodo__(nodo.left, value) # buscar en sub arbol izq\r\n",
        "    else:\r\n",
        "      if nodo.right == None:\r\n",
        "        nodo.roght = NodoArbol( value, None, None )\r\n",
        "      else:\r\n",
        "        self.__insert_nodo__( nodo.right, value) # buscar en sub arbol de derecha\r\n",
        "      "
      ],
      "execution_count": 3,
      "outputs": []
    },
    {
      "cell_type": "code",
      "metadata": {
        "id": "fAyWKqNFf9_R"
      },
      "source": [
        "bst = BinarySearchTree()\r\n",
        "bst.insert(50)\r\n",
        "bst.insert(30)\r\n",
        "bst.insert(20)"
      ],
      "execution_count": null,
      "outputs": []
    },
    {
      "cell_type": "code",
      "metadata": {
        "id": "HnsbCiF5diFR"
      },
      "source": [
        "#buscar en subarbol de derecha"
      ],
      "execution_count": null,
      "outputs": []
    }
  ]
}