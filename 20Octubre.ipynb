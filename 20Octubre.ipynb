{
  "nbformat": 4,
  "nbformat_minor": 0,
  "metadata": {
    "colab": {
      "name": "20Octubre.ipynb",
      "provenance": [],
      "authorship_tag": "ABX9TyO5eXvlqeAjp8XezC3dpOOY",
      "include_colab_link": true
    },
    "kernelspec": {
      "name": "python3",
      "display_name": "Python 3"
    }
  },
  "cells": [
    {
      "cell_type": "markdown",
      "metadata": {
        "id": "view-in-github",
        "colab_type": "text"
      },
      "source": [
        "<a href=\"https://colab.research.google.com/github/316141725/daa_2021_1/blob/master/20Octubre.ipynb\" target=\"_parent\"><img src=\"https://colab.research.google.com/assets/colab-badge.svg\" alt=\"Open In Colab\"/></a>"
      ]
    },
    {
      "cell_type": "code",
      "metadata": {
        "id": "hPDab0YthXU4",
        "outputId": "173f0169-f8d0-478e-f8ec-d3e6dd7a176b",
        "colab": {
          "base_uri": "https://localhost:8080/",
          "height": 119
        }
      },
      "source": [
        "def ejemplo4(n):\n",
        "  count=0\n",
        "  i=n\n",
        "  print(\"nivel 1\")\n",
        "  while i>=1:\n",
        "    count += 1\n",
        "    i=i//2\n",
        "    print(\"nivel 2\")\n",
        "  basura =3+2\n",
        "  print(count)\n",
        "  return count\n",
        "\n",
        "ejemplo4(7)"
      ],
      "execution_count": 7,
      "outputs": [
        {
          "output_type": "stream",
          "text": [
            "nivel 1\n",
            "nivel 2\n",
            "nivel 2\n",
            "nivel 2\n",
            "3\n"
          ],
          "name": "stdout"
        },
        {
          "output_type": "execute_result",
          "data": {
            "text/plain": [
              "3"
            ]
          },
          "metadata": {
            "tags": []
          },
          "execution_count": 7
        }
      ]
    }
  ]
}