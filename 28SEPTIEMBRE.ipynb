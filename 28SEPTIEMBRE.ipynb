{
  "nbformat": 4,
  "nbformat_minor": 0,
  "metadata": {
    "colab": {
      "name": "28SEPTIEMBRE.ipynb",
      "provenance": [],
      "toc_visible": true,
      "authorship_tag": "ABX9TyNzI/oq4cxE9/D9zqTvkZNY",
      "include_colab_link": true
    },
    "kernelspec": {
      "name": "python3",
      "display_name": "Python 3"
    }
  },
  "cells": [
    {
      "cell_type": "markdown",
      "metadata": {
        "id": "view-in-github",
        "colab_type": "text"
      },
      "source": [
        "<a href=\"https://colab.research.google.com/github/316141725/daa_2021_1/blob/master/28SEPTIEMBRE.ipynb\" target=\"_parent\"><img src=\"https://colab.research.google.com/assets/colab-badge.svg\" alt=\"Open In Colab\"/></a>"
      ]
    },
    {
      "cell_type": "code",
      "metadata": {
        "id": "uA5c5lWUCBMU"
      },
      "source": [
        ""
      ],
      "execution_count": null,
      "outputs": []
    },
    {
      "cell_type": "markdown",
      "metadata": {
        "id": "rhMK7VyvDIVH"
      },
      "source": [
        "Sección 1\n"
      ]
    },
    {
      "cell_type": "markdown",
      "metadata": {
        "id": "U-kpbOLNDcG6"
      },
      "source": [
        "En este archivo aprenderemos a programar en python con la herramienta de google, colab.research \n",
        "También aprenderemos a guardar nuestros cambios a nuestro repositorio de github.com\n"
      ]
    },
    {
      "cell_type": "markdown",
      "metadata": {
        "id": "Ic-HSUOCDzg4"
      },
      "source": [
        "##Codigo de ejemplo\n",
        "**Negritas**\n",
        "_Italicas_\n",
        "\n",
        "`\n",
        "edad=10(edad)\n",
        "`"
      ]
    },
    {
      "cell_type": "code",
      "metadata": {
        "id": "SPqKvrcKGdmF",
        "outputId": "972d199c-996c-4685-dc6f-78a9ea5be9f4",
        "colab": {
          "base_uri": "https://localhost:8080/",
          "height": 34
        }
      },
      "source": [
        "frutas=[]\n",
        "frutas.append('Manzana')\n",
        "frutas.append('Piña')\n",
        "frutas.append('kiwi')\n",
        "print(frutas)"
      ],
      "execution_count": 2,
      "outputs": [
        {
          "output_type": "stream",
          "text": [
            "['Manzana', 'Piña', 'kiwi']\n"
          ],
          "name": "stdout"
        }
      ]
    },
    {
      "cell_type": "code",
      "metadata": {
        "id": "Vx87f5RfHyvW"
      },
      "source": [
        "archivo=open('prueba_daa.txt','wt')\n",
        "archivo.write(\"Hola mundo Jupyter\")\n",
        "archivo.close()"
      ],
      "execution_count": 5,
      "outputs": []
    }
  ]
}