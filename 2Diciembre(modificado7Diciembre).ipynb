{
  "nbformat": 4,
  "nbformat_minor": 0,
  "metadata": {
    "colab": {
      "name": "2Diciembre(modificado7Diciembre).ipynb",
      "provenance": [],
      "authorship_tag": "ABX9TyNLsXpIRrXppeitBfLOfUmO",
      "include_colab_link": true
    },
    "kernelspec": {
      "name": "python3",
      "display_name": "Python 3"
    }
  },
  "cells": [
    {
      "cell_type": "markdown",
      "metadata": {
        "id": "view-in-github",
        "colab_type": "text"
      },
      "source": [
        "<a href=\"https://colab.research.google.com/github/316141725/daa_2021_1/blob/master/2Diciembre(modificado7Diciembre).ipynb\" target=\"_parent\"><img src=\"https://colab.research.google.com/assets/colab-badge.svg\" alt=\"Open In Colab\"/></a>"
      ]
    },
    {
      "cell_type": "code",
      "metadata": {
        "id": "jXv4kteZ_ztH"
      },
      "source": [
        "def fnRecInfinita():\n",
        "  print(\"Hola\")\n",
        "  fnRecInfinita()"
      ],
      "execution_count": null,
      "outputs": []
    },
    {
      "cell_type": "code",
      "metadata": {
        "id": "r63OYgn9_98H"
      },
      "source": [
        "fnRecInfinita()"
      ],
      "execution_count": null,
      "outputs": []
    },
    {
      "cell_type": "code",
      "metadata": {
        "colab": {
          "base_uri": "https://localhost:8080/"
        },
        "id": "YPOVrxhhAQ6B",
        "outputId": "78379eee-0d2e-48b1-a510-92618ff36936"
      },
      "source": [
        "def fnRec(x):\n",
        "  if x == 0:\n",
        "    print(\"Stop\")\n",
        "  else:\n",
        "    print(x)\n",
        "    fnRec(x-1)\n",
        "    \n",
        "def main():\n",
        "  print(\"inicio del programa\")\n",
        "  fnRec(5)\n",
        "  print(\"Fin del programa\")\n",
        "main()"
      ],
      "execution_count": null,
      "outputs": [
        {
          "output_type": "stream",
          "text": [
            "inicio del programa\n",
            "5\n",
            "4\n",
            "3\n",
            "2\n",
            "1\n",
            "Stop\n",
            "Fin del programa\n"
          ],
          "name": "stdout"
        }
      ]
    },
    {
      "cell_type": "code",
      "metadata": {
        "colab": {
          "base_uri": "https://localhost:8080/"
        },
        "id": "XHKNf8vaBl5Z",
        "outputId": "1c2020f3-7469-4f60-ef7a-204f58ed147c"
      },
      "source": [
        "def printRev(x):\n",
        "  if x > 0:\n",
        "    printRev(x - 1)\n",
        "    print ( x )\n",
        "    \n",
        "\n",
        "printRev(3)"
      ],
      "execution_count": null,
      "outputs": [
        {
          "output_type": "stream",
          "text": [
            "1\n",
            "2\n",
            "3\n"
          ],
          "name": "stdout"
        }
      ]
    },
    {
      "cell_type": "code",
      "metadata": {
        "colab": {
          "base_uri": "https://localhost:8080/"
        },
        "id": "4UmKD7TbItAJ",
        "outputId": "71780e2a-0e09-4133-cedb-c8cc18e98409"
      },
      "source": [
        "def fibonacci( n ):\n",
        "  print(\"Lamada:\",n)\n",
        "  if n == 1 or  n == 0:\n",
        "    return n\n",
        "  else:\n",
        "    return( fibonacci(n-1) + fibonacci(n-2) )\n",
        "\n",
        "print(fibonacci(6))"
      ],
      "execution_count": null,
      "outputs": [
        {
          "output_type": "stream",
          "text": [
            "Lamada: 6\n",
            "Lamada: 5\n",
            "Lamada: 4\n",
            "Lamada: 3\n",
            "Lamada: 2\n",
            "Lamada: 1\n",
            "Lamada: 0\n",
            "Lamada: 1\n",
            "Lamada: 2\n",
            "Lamada: 1\n",
            "Lamada: 0\n",
            "Lamada: 3\n",
            "Lamada: 2\n",
            "Lamada: 1\n",
            "Lamada: 0\n",
            "Lamada: 1\n",
            "Lamada: 4\n",
            "Lamada: 3\n",
            "Lamada: 2\n",
            "Lamada: 1\n",
            "Lamada: 0\n",
            "Lamada: 1\n",
            "Lamada: 2\n",
            "Lamada: 1\n",
            "Lamada: 0\n",
            "8\n"
          ],
          "name": "stdout"
        }
      ]
    }
  ]
}