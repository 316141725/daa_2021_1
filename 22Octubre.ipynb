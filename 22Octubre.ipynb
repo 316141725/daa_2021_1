{
  "nbformat": 4,
  "nbformat_minor": 0,
  "metadata": {
    "colab": {
      "name": "22Octubre.ipynb",
      "provenance": [],
      "authorship_tag": "ABX9TyP0UP/WLfVx83l3SGvvDjgX",
      "include_colab_link": true
    },
    "kernelspec": {
      "name": "python3",
      "display_name": "Python 3"
    }
  },
  "cells": [
    {
      "cell_type": "markdown",
      "metadata": {
        "id": "view-in-github",
        "colab_type": "text"
      },
      "source": [
        "<a href=\"https://colab.research.google.com/github/316141725/daa_2021_1/blob/master/22Octubre.ipynb\" target=\"_parent\"><img src=\"https://colab.research.google.com/assets/colab-badge.svg\" alt=\"Open In Colab\"/></a>"
      ]
    },
    {
      "cell_type": "code",
      "metadata": {
        "id": "0Ycbit9G9cK6",
        "outputId": "f8988b2e-e773-4e72-d570-e7e333001585",
        "colab": {
          "base_uri": "https://localhost:8080/",
          "height": 187
        }
      },
      "source": [
        "def ejemplo1(n):\n",
        "    start_time=time()\n",
        "    c=n+1\n",
        "    d=c*n\n",
        "    e=n*n\n",
        "    total=c+e-d\n",
        "    elapsed_time=time()-start_time\n",
        "    print(\"Tiempo transcurrido: %0.10f segundos.\" %elapsed_time)\n",
        "for entrada in range(100,1100,100):\n",
        "  ejemplo1(entrada)"
      ],
      "execution_count": 6,
      "outputs": [
        {
          "output_type": "stream",
          "text": [
            "Tiempo transcurrido: 0.0000011921 segundos.\n",
            "Tiempo transcurrido: 0.0000009537 segundos.\n",
            "Tiempo transcurrido: 0.0000007153 segundos.\n",
            "Tiempo transcurrido: 0.0000004768 segundos.\n",
            "Tiempo transcurrido: 0.0000004768 segundos.\n",
            "Tiempo transcurrido: 0.0000004768 segundos.\n",
            "Tiempo transcurrido: 0.0000004768 segundos.\n",
            "Tiempo transcurrido: 0.0000007153 segundos.\n",
            "Tiempo transcurrido: 0.0000007153 segundos.\n",
            "Tiempo transcurrido: 0.0000007153 segundos.\n"
          ],
          "name": "stdout"
        }
      ]
    },
    {
      "cell_type": "code",
      "metadata": {
        "id": "4tJlDXrM-Qyq",
        "outputId": "923a3349-56fe-4382-e340-402d62aea4c2",
        "colab": {
          "base_uri": "https://localhost:8080/",
          "height": 187
        }
      },
      "source": [
        "def ejemplo2(n):\n",
        "    start_time=time()\n",
        "    contador=0\n",
        "    for i in range(n):\n",
        "        for j in range(n):\n",
        "            contador +=1\n",
        "    elapsed_time=time()-start_time\n",
        "    print(\"Tiempo transcurrido: %0.10f segundos.\" %elapsed_time)\n",
        "#1+n^2\n",
        "for entrada in range(100,1100,100):\n",
        "  ejemplo2(entrada)"
      ],
      "execution_count": 7,
      "outputs": [
        {
          "output_type": "stream",
          "text": [
            "Tiempo transcurrido: 0.0006361008 segundos.\n",
            "Tiempo transcurrido: 0.0018541813 segundos.\n",
            "Tiempo transcurrido: 0.0041708946 segundos.\n",
            "Tiempo transcurrido: 0.0078394413 segundos.\n",
            "Tiempo transcurrido: 0.0179674625 segundos.\n",
            "Tiempo transcurrido: 0.0231599808 segundos.\n",
            "Tiempo transcurrido: 0.0264143944 segundos.\n",
            "Tiempo transcurrido: 0.0353429317 segundos.\n",
            "Tiempo transcurrido: 0.0446481705 segundos.\n",
            "Tiempo transcurrido: 0.0557720661 segundos.\n"
          ],
          "name": "stdout"
        }
      ]
    },
    {
      "cell_type": "code",
      "metadata": {
        "id": "s72fomrk_gC7",
        "outputId": "d068748a-4319-44ee-cda9-bfddeb30d435",
        "colab": {
          "base_uri": "https://localhost:8080/",
          "height": 187
        }
      },
      "source": [
        "def ejemplo3(n):\n",
        "    start_time=time()\n",
        "    x=n*2       #1\n",
        "    y=0         #1\n",
        "    for m in range(100):    #100\n",
        "        y=x-n\n",
        "    elapsed_time=time()-start_time\n",
        "    print(\"Tiempo transcurrido: %0.10f segundos.\" %elapsed_time)\n",
        "#102 \n",
        "for entrada in range(100,1100,100):\n",
        "  ejemplo3(entrada)"
      ],
      "execution_count": 8,
      "outputs": [
        {
          "output_type": "stream",
          "text": [
            "Tiempo transcurrido: 0.0000071526 segundos.\n",
            "Tiempo transcurrido: 0.0000057220 segundos.\n",
            "Tiempo transcurrido: 0.0000069141 segundos.\n",
            "Tiempo transcurrido: 0.0000078678 segundos.\n",
            "Tiempo transcurrido: 0.0000092983 segundos.\n",
            "Tiempo transcurrido: 0.0000090599 segundos.\n",
            "Tiempo transcurrido: 0.0000061989 segundos.\n",
            "Tiempo transcurrido: 0.0000069141 segundos.\n",
            "Tiempo transcurrido: 0.0000092983 segundos.\n",
            "Tiempo transcurrido: 0.0000085831 segundos.\n"
          ],
          "name": "stdout"
        }
      ]
    },
    {
      "cell_type": "code",
      "metadata": {
        "id": "K-ka7r2I_kdF",
        "outputId": "ea35c7fd-d6b6-4c91-9525-0c6ec2e2736e",
        "colab": {
          "base_uri": "https://localhost:8080/",
          "height": 187
        }
      },
      "source": [
        "def ejemplo4(n):\n",
        "    start_time=time()\n",
        "    x=3*3.1416+n\n",
        "    y=x+3*3-n\n",
        "    z=x+y\n",
        "    elapsed_time=time()-start_time\n",
        "    print(\"Tiempo transcurrido: %0.10f segundos.\" %elapsed_time)\n",
        "#3\n",
        "for entrada in range(100,1100,100):\n",
        "  ejemplo4(entrada)"
      ],
      "execution_count": 9,
      "outputs": [
        {
          "output_type": "stream",
          "text": [
            "Tiempo transcurrido: 0.0000016689 segundos.\n",
            "Tiempo transcurrido: 0.0000011921 segundos.\n",
            "Tiempo transcurrido: 0.0000009537 segundos.\n",
            "Tiempo transcurrido: 0.0000007153 segundos.\n",
            "Tiempo transcurrido: 0.0000011921 segundos.\n",
            "Tiempo transcurrido: 0.0000007153 segundos.\n",
            "Tiempo transcurrido: 0.0000007153 segundos.\n",
            "Tiempo transcurrido: 0.0000004768 segundos.\n",
            "Tiempo transcurrido: 0.0000004768 segundos.\n",
            "Tiempo transcurrido: 0.0000004768 segundos.\n"
          ],
          "name": "stdout"
        }
      ]
    },
    {
      "cell_type": "code",
      "metadata": {
        "id": "jPD3Hq-L_p6W",
        "outputId": "5b15dbe3-8c93-4701-ad0f-0ad495bd2f1b",
        "colab": {
          "base_uri": "https://localhost:8080/",
          "height": 187
        }
      },
      "source": [
        "def ejemplo5(x):\n",
        "    start_time=time()\n",
        "    n=10\n",
        "    for j in range(0,x,1):\n",
        "        n=j+n\n",
        "    elapsed_time=time()-start_time\n",
        "    print(\"Tiempo transcurrido: %0.10f segundos.\" %elapsed_time)\n",
        "#1+x\n",
        "for entrada in range(100,1100,100):\n",
        "  ejemplo5(entrada)"
      ],
      "execution_count": 10,
      "outputs": [
        {
          "output_type": "stream",
          "text": [
            "Tiempo transcurrido: 0.0000059605 segundos.\n",
            "Tiempo transcurrido: 0.0000176430 segundos.\n",
            "Tiempo transcurrido: 0.0000276566 segundos.\n",
            "Tiempo transcurrido: 0.0000429153 segundos.\n",
            "Tiempo transcurrido: 0.0000479221 segundos.\n",
            "Tiempo transcurrido: 0.0000581741 segundos.\n",
            "Tiempo transcurrido: 0.0000665188 segundos.\n",
            "Tiempo transcurrido: 0.0000786781 segundos.\n",
            "Tiempo transcurrido: 0.0002732277 segundos.\n",
            "Tiempo transcurrido: 0.0000872612 segundos.\n"
          ],
          "name": "stdout"
        }
      ]
    },
    {
      "cell_type": "code",
      "metadata": {
        "id": "xNRFEsj4_yII",
        "outputId": "31fb52f5-802e-4e03-b38f-a02c338b2efc",
        "colab": {
          "base_uri": "https://localhost:8080/",
          "height": 357
        }
      },
      "source": [
        "from time import time\n",
        "def ejemplo6(n):\n",
        "    start_time=time()\n",
        "    data=[[[1 for x in range(n)]for x in range(n)]for x in range(n)]\n",
        "    suma=0\n",
        "    for d in range(n):\n",
        "        for r in range(n):\n",
        "            for c in range(n):\n",
        "                suma+=data[d][r][c]\n",
        "    elapsed_time=time()-start_time\n",
        "    print(\"Tiempo transcurrido: %0.10f segundos.\" %elapsed_time)\n",
        "    print(suma)\n",
        "for entrada in range(100,1100,100):\n",
        "  ejemplo6(entrada)"
      ],
      "execution_count": 5,
      "outputs": [
        {
          "output_type": "stream",
          "text": [
            "Tiempo transcurrido: 0.1507132053 segundos.\n",
            "1000000\n",
            "Tiempo transcurrido: 1.1564738750 segundos.\n",
            "8000000\n",
            "Tiempo transcurrido: 3.5540020466 segundos.\n",
            "27000000\n",
            "Tiempo transcurrido: 9.2688565254 segundos.\n",
            "64000000\n",
            "Tiempo transcurrido: 18.4688370228 segundos.\n",
            "125000000\n",
            "Tiempo transcurrido: 33.3728828430 segundos.\n",
            "216000000\n",
            "Tiempo transcurrido: 56.9557096958 segundos.\n",
            "343000000\n",
            "Tiempo transcurrido: 80.4171011448 segundos.\n",
            "512000000\n",
            "Tiempo transcurrido: 112.2972609997 segundos.\n",
            "729000000\n",
            "Tiempo transcurrido: 159.9694461823 segundos.\n",
            "1000000000\n"
          ],
          "name": "stdout"
        }
      ]
    }
  ]
}